{
  "nbformat": 4,
  "nbformat_minor": 5,
  "metadata": {
    "kernelspec": {
      "display_name": "Python 3",
      "language": "python",
      "name": "python3"
    },
    "language_info": {
      "codemirror_mode": {
        "name": "ipython",
        "version": 3
      },
      "file_extension": ".py",
      "mimetype": "text/x-python",
      "name": "python",
      "nbconvert_exporter": "python",
      "pygments_lexer": "ipython3",
      "version": "3.8.5"
    },
    "colab": {
      "name": "two-peaks.ipynb",
      "provenance": [],
      "collapsed_sections": []
    },
    "accelerator": "GPU"
  },
  "cells": [
    {
      "cell_type": "markdown",
      "metadata": {
        "id": "xGD5qJn2dO9q"
      },
      "source": [
        "# Measuring Distance Using Convolutional Neural Network\r\n",
        "\r\n",
        "In signal processing, it is sometimes necessary to measure distance between some features of the signal, for example, the peaks. A good example of this could be interpreting an electrocardiogram (ECG), which relies on measuring distances for much of its interpretation. So, I decided to dedicate to this problem some time and represent two ways of solving it. The first way is very easy and straightforward. It consists of finding the peaks in one-dimensional signal and then then measuring the distance between them by subtracting their coordinates. Another way is to use a small neural network to do the same task. \r\n",
        "\r\n",
        "The reason why you would use a neural network for such a simple task is when you want to incorporate distance measuring as a part of a larger machine learning problem(such as interpreting ECG) and want to use end-to-end learning for this task.\r\n"
      ],
      "id": "xGD5qJn2dO9q"
    },
    {
      "cell_type": "code",
      "metadata": {
        "id": "graduate-attribute"
      },
      "source": [
        "import numpy as np\n",
        "import pandas as pd\n",
        "from scipy.stats import norm\n",
        "from matplotlib import pyplot as plt\n",
        "%matplotlib inline\n",
        "from scipy.signal import find_peaks\n",
        "from sklearn.metrics import mean_squared_error, r2_score\n",
        "import time"
      ],
      "id": "graduate-attribute",
      "execution_count": null,
      "outputs": []
    },
    {
      "cell_type": "markdown",
      "metadata": {
        "id": "j0bS7xV-iTxn"
      },
      "source": [
        "## Generating data\r\n",
        "\r\n",
        "First, we create a generator function that generates the data we will use for both training and test sets. This is a python generator function, meaning that it uses `yield` keyword instead of `return`. Every time a `next()` function on a generator is called it will yield the next result. This function generates signals with exactly two peaks. All the signals are exactly the same length. The location of the first peak is uniformly distributed in the first quadrant of the signal, but the location of the second peak is normally distributed, but we also make sure it does not go outside the bounds. The peaks’ widths are also normally distributed. We return the peaks in batches, which would be useful for neural network training and evaluation. \r\n",
        "Note that this generator literally generates infinite amount of data! By virtue of this, we can try to achieve as high accuracy as possible for our toy example.\r\n"
      ],
      "id": "j0bS7xV-iTxn"
    },
    {
      "cell_type": "code",
      "metadata": {
        "id": "classical-style"
      },
      "source": [
        "def get_signal_generator(batch_size, n_points, mean_distance, std_distance, \n",
        "                         mean_width, std_width):\n",
        "    def generate_one():\n",
        "        first = np.random.uniform(0, n_points /4)\n",
        "        second = first + np.random.normal(mean_distance * n_points, std_distance * n_points)\n",
        "        if second > n_points * 0.95:\n",
        "            second = n_points * 0.95\n",
        "        distance = second - first\n",
        "        first_width = max(np.random.normal(mean_width * n_points, std_width * n_points), n_points * std_width)\n",
        "        second_width = max(np.random.normal(mean_width * n_points, std_width * n_points), n_points * std_width)\n",
        "        data_range = np.arange(n_points)\n",
        "        signal = norm.pdf(data_range, first, first_width) + \\\n",
        "            norm.pdf(data_range, second, second_width)\n",
        "        return signal, distance\n",
        "        \n",
        "    def generate():\n",
        "        sanity=100000\n",
        "        for _ in range(sanity):\n",
        "            all_data = [generate_one() for _ in range(batch_size)]\n",
        "            yield np.vstack([element[0] for element in all_data]), np.vstack([element[1] for element in all_data])\n",
        "        \n",
        "    return generate()"
      ],
      "id": "classical-style",
      "execution_count": null,
      "outputs": []
    },
    {
      "cell_type": "markdown",
      "metadata": {
        "id": "_TtLGT_Ilq8q"
      },
      "source": [
        "Calling `next()` function returns the next batch. We can see below an example of the signal we will process in this arcicle"
      ],
      "id": "_TtLGT_Ilq8q"
    },
    {
      "cell_type": "code",
      "metadata": {
        "id": "accredited-alliance"
      },
      "source": [
        "data_generator = get_signal_generator(2, 1000, 0.3, 0.1, 0.03, 0.01)\n",
        "batch = next(data_generator)"
      ],
      "id": "accredited-alliance",
      "execution_count": null,
      "outputs": []
    },
    {
      "cell_type": "code",
      "metadata": {
        "id": "studied-bankruptcy",
        "colab": {
          "base_uri": "https://localhost:8080/",
          "height": 265
        },
        "outputId": "2fb37ea5-026d-4842-8317-15143feeb371"
      },
      "source": [
        "plt.plot(batch[0][0,:]);"
      ],
      "id": "studied-bankruptcy",
      "execution_count": null,
      "outputs": [
        {
          "output_type": "display_data",
          "data": {
            "image/png": "[encoded data removed]",
            "text/plain": [
              "<Figure size 432x288 with 1 Axes>"
            ]
          },
          "metadata": {
            "tags": [],
            "needs_background": "light"
          }
        }
      ]
    },
    {
      "cell_type": "markdown",
      "metadata": {
        "id": "proud-thriller"
      },
      "source": [
        "## Finding peaks\n",
        "\n",
        "Now that we have the generator function, we can use the standard signal processing library to find the distance between peaks. We will use `scipy` library and function `find_peaks()` to find peaks. \n"
      ],
      "id": "proud-thriller"
    },
    {
      "cell_type": "code",
      "metadata": {
        "id": "gothic-record"
      },
      "source": [
        "def predict_distance(batch):\n",
        "    def compute_distance(row):\n",
        "        peaks = find_peaks(row)[0]\n",
        "        if len(peaks) < 2:\n",
        "            return 0\n",
        "        return abs(peaks[1] - peaks[0])\n",
        "                   \n",
        "    return np.vstack([compute_distance(batch[i,:]) for i in range(batch.shape[0])])\n",
        "    "
      ],
      "id": "gothic-record",
      "execution_count": null,
      "outputs": []
    },
    {
      "cell_type": "markdown",
      "metadata": {
        "id": "acquired-mortgage"
      },
      "source": [
        "We use $R^2$ score to evaluate the model. As we can see, we get almost perfect score and the prediction error is mostly due to number rounding error."
      ],
      "id": "acquired-mortgage"
    },
    {
      "cell_type": "code",
      "metadata": {
        "id": "chicken-flooring"
      },
      "source": [
        "np.random.seed(2128506)\n",
        "data_generator = get_signal_generator(500, 1000, 0.7, 0.1, 0.03, 0.01)\n",
        "batch_x, batch_y = next(data_generator)"
      ],
      "id": "chicken-flooring",
      "execution_count": null,
      "outputs": []
    },
    {
      "cell_type": "code",
      "metadata": {
        "id": "manufactured-triangle",
        "colab": {
          "base_uri": "https://localhost:8080/"
        },
        "outputId": "e2b4e571-c96b-420f-a85d-65d1bb027334"
      },
      "source": [
        "predictions = predict_distance(batch_x)\n",
        "print('Baseline performance: ', r2_score(batch_y, predictions))"
      ],
      "id": "manufactured-triangle",
      "execution_count": null,
      "outputs": [
        {
          "output_type": "stream",
          "text": [
            "Baseline performance:  0.9999812121197582\n"
          ],
          "name": "stdout"
        }
      ]
    },
    {
      "cell_type": "markdown",
      "metadata": {
        "id": "jewish-excellence"
      },
      "source": [
        "## Using CNN to measure distances\r\n",
        "\r\n",
        "When designing a neural network, it is often useful to imaging what would a human operator do. In our case the operation is measuring and the instrument of it is a ruler. In our case we simulate a ruler using a 1D convolutional layer with the kernel size set to the maximum – the length of the signal. The reasoning behind this is that if the layer has values from 0,1,2,3,4,… when multiplied by the signal it would accurately give us the position of the peak. We use two filters, supposedly to measure the position of two peaks, and then add two fully connected layers to let the neural network learn how to take the difference between these two measurements.\r\n",
        "\r\n",
        "Our implementation of the neural network uses Tensorflow and Keras. Note, that since `Conv1D` requires a three-dimensional tensor, we add a Reshape layer that adds the third dimension of the size 1. Batch dimension is implicitly assumed. For the convolution layer we do not use any activation function, because we want the behaviour of the layer resemble a ruler. Before sending the data to `Dense` layers we add a `Flatten` layer to collapse dimensions (except the batch dimension) into a single dimension because this is what `Dense` layer expects. "
      ],
      "id": "jewish-excellence"
    },
    {
      "cell_type": "code",
      "metadata": {
        "id": "subsequent-madagascar"
      },
      "source": [
        "import tensorflow as tf\n",
        "from tensorflow.keras.layers import Conv1D, Dense, Input, Reshape, Flatten\n",
        "from tensorflow.keras import Sequential\n",
        "from tensorflow.keras.callbacks import EarlyStopping, TerminateOnNaN\n",
        "from tensorflow.keras.optimizers import Adam"
      ],
      "id": "subsequent-madagascar",
      "execution_count": null,
      "outputs": []
    },
    {
      "cell_type": "code",
      "metadata": {
        "id": "mechanical-maria",
        "colab": {
          "base_uri": "https://localhost:8080/"
        },
        "outputId": "a8d6e4e2-14e8-4c48-eb6e-ce15297576f7"
      },
      "source": [
        "model = Sequential([\n",
        "    Input(shape=(1000,)),\n",
        "    Reshape((-1,1)),      \n",
        "    Conv1D(filters=2, kernel_size=1000, activation=None),\n",
        "    Flatten(),\n",
        "    Dense(16, activation='relu'),\n",
        "    Dense(16, activation='relu'),\n",
        "    Dense(1)\n",
        "])\n",
        "model.compile(optimizer=Adam(lr=0.7), loss='mse')\n",
        "model.summary()"
      ],
      "id": "mechanical-maria",
      "execution_count": null,
      "outputs": [
        {
          "output_type": "stream",
          "text": [
            "Model: \"sequential_26\"\n",
            "_________________________________________________________________\n",
            "Layer (type)                 Output Shape              Param #   \n",
            "=================================================================\n",
            "reshape_26 (Reshape)         (None, 1000, 1)           0         \n",
            "_________________________________________________________________\n",
            "conv1d_33 (Conv1D)           (None, 1, 2)              2002      \n",
            "_________________________________________________________________\n",
            "flatten_25 (Flatten)         (None, 2)                 0         \n",
            "_________________________________________________________________\n",
            "dense_63 (Dense)             (None, 16)                48        \n",
            "_________________________________________________________________\n",
            "dense_64 (Dense)             (None, 16)                272       \n",
            "_________________________________________________________________\n",
            "dense_65 (Dense)             (None, 1)                 17        \n",
            "=================================================================\n",
            "Total params: 2,339\n",
            "Trainable params: 2,339\n",
            "Non-trainable params: 0\n",
            "_________________________________________________________________\n"
          ],
          "name": "stdout"
        }
      ]
    },
    {
      "cell_type": "markdown",
      "metadata": {
        "id": "WnBsigc5tpqK"
      },
      "source": [
        "As we see, this model has only 2339 parameters, so it is a pretty simple model. We train the model during 50 epochs, but we also added `Early S\r\n"
      ],
      "id": "WnBsigc5tpqK"
    },
    {
      "cell_type": "code",
      "metadata": {
        "id": "blocked-fever",
        "colab": {
          "base_uri": "https://localhost:8080/"
        },
        "outputId": "f048ab3d-d7c6-4b54-863c-dc586ac9f524"
      },
      "source": [
        "np.random.seed(2128506)\n",
        "tf.random.set_seed(2128506)\n",
        "data_generator = get_signal_generator(500, 1000, 0.7, 0.1, 0.03, 0.01)\n",
        "model.fit(data_generator, epochs=50, steps_per_epoch=100, callbacks=[EarlyStopping(monitor='loss'), TerminateOnNaN()])"
      ],
      "id": "blocked-fever",
      "execution_count": null,
      "outputs": [
        {
          "output_type": "stream",
          "text": [
            "Epoch 1/50\n",
            "100/100 [==============================] - 16s 157ms/step - loss: 55010.6915\n",
            "Epoch 2/50\n",
            "100/100 [==============================] - 16s 161ms/step - loss: 186.3050\n",
            "Epoch 3/50\n",
            "100/100 [==============================] - 16s 160ms/step - loss: 89.9977\n",
            "Epoch 4/50\n",
            "100/100 [==============================] - 16s 159ms/step - loss: 229.8199\n"
          ],
          "name": "stdout"
        },
        {
          "output_type": "execute_result",
          "data": {
            "text/plain": [
              "<tensorflow.python.keras.callbacks.History at 0x7f11d18feef0>"
            ]
          },
          "metadata": {
            "tags": []
          },
          "execution_count": 63
        }
      ]
    },
    {
      "cell_type": "code",
      "metadata": {
        "id": "major-radio",
        "colab": {
          "base_uri": "https://localhost:8080/"
        },
        "outputId": "5a2ea8c5-5d3a-4fa5-c97f-10fbc18d1953"
      },
      "source": [
        "time.sleep(1)\n",
        "batch_x, batch_y = next(data_generator)\n",
        "predictions = model.predict(batch_x)\n",
        "print('R^2 score: ', r2_score(batch_y, np.squeeze(predictions)))"
      ],
      "id": "major-radio",
      "execution_count": null,
      "outputs": [
        {
          "output_type": "stream",
          "text": [
            "R^2 score:  0.996036173273703\n"
          ],
          "name": "stdout"
        }
      ]
    },
    {
      "cell_type": "markdown",
      "metadata": {
        "id": "gYiSQuc-6WHA"
      },
      "source": [
        "As we see, this model has only 2339 parameters, so it is a pretty simple model. We train the model during 50 epochs, but we also added `EarlyStopping` callback to stop execution of the model if it stops being improved. We add another callback `TerminateOnNaN` that stops the training process if the gradients or loss becomes `NaN`. \r\n",
        "We pass a generator function to the `fit()` method. This is now a recommended method of passing data to the model, especially when the volume of data is large. In our case the generator continuously generates random examples, literally infinite number of examples! Since our generator function does not have a concept of an epoch, we need to define a parameter `steps_per_epoch`, otherwise the model will think all the batches belong to the first epoch and the training will never end.\r\n",
        "After training a model we see, that the test set score is truly impressive. While we acknowledge that further improvements to the algorithm are possible, the result we got proves that our simple approach really works.\r\n"
      ],
      "id": "gYiSQuc-6WHA"
    }
  ]
}