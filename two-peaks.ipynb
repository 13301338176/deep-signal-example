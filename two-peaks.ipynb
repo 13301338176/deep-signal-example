{
 "cells": [
  {
   "cell_type": "code",
   "execution_count": 88,
   "id": "unable-genome",
   "metadata": {},
   "outputs": [],
   "source": [
    "import numpy as np\n",
    "import pandas as pd\n",
    "from scipy.stats import norm\n",
    "from matplotlib import pyplot as plt\n",
    "%matplotlib inline\n",
    "from scipy.signal import find_peaks\n",
    "from sklearn.metrics import mean_squared_error"
   ]
  },
  {
   "cell_type": "code",
   "execution_count": 134,
   "id": "unknown-merit",
   "metadata": {},
   "outputs": [],
   "source": [
    "def get_signal_generator(batch_size, n_points, mean_distance, std_distance, \n",
    "                         mean_width, std_width):\n",
    "    def generate_one():\n",
    "        first = np.random.uniform(0, n_points /4)\n",
    "        second = first + np.random.normal(mean_distance * n_points, std_distance * n_points)\n",
    "        if second > n_points * 0.95:\n",
    "            second = n_points * 0.95\n",
    "        distance = second - first\n",
    "        first_width = max(np.random.normal(mean_width * n_points, std_width * n_points), n_points * std_width)\n",
    "        second_width = max(np.random.normal(mean_width * n_points, std_width * n_points), n_points * std_width)\n",
    "        data_range = np.arange(n_points)\n",
    "        signal = norm.pdf(data_range, first, first_width) + \\\n",
    "            norm.pdf(data_range, second, second_width)\n",
    "        return signal, distance\n",
    "        \n",
    "    def generate():\n",
    "        sanity=100000\n",
    "        for _ in range(sanity):\n",
    "            all_data = [generate_one() for _ in range(batch_size)]\n",
    "            yield np.vstack([element[0] for element in all_data]), np.vstack([element[1] for element in all_data])\n",
    "        \n",
    "    return generate()"
   ]
  },
  {
   "cell_type": "code",
   "execution_count": 135,
   "id": "complimentary-timer",
   "metadata": {},
   "outputs": [],
   "source": [
    "data_generator = get_signal_generator(2, 1000, 0.3, 0.1, 0.03, 0.01)\n",
    "batch = next(data_generator)"
   ]
  },
  {
   "cell_type": "code",
   "execution_count": 136,
   "id": "general-drilling",
   "metadata": {},
   "outputs": [
    {
     "data": {
      "image/png": "[encoded data removed]",
      "text/plain": [
       "<Figure size 432x288 with 1 Axes>"
      ]
     },
     "metadata": {
      "needs_background": "light"
     },
     "output_type": "display_data"
    }
   ],
   "source": [
    "plt.plot(batch[0][0,:]);"
   ]
  },
  {
   "cell_type": "markdown",
   "id": "respective-arctic",
   "metadata": {},
   "source": [
    "## Finding peaks\n",
    "\n",
    "Now that we have the generator functtion we can  use the standard signal processing library to find the distance between peaks"
   ]
  },
  {
   "cell_type": "code",
   "execution_count": 137,
   "id": "amended-parks",
   "metadata": {},
   "outputs": [],
   "source": [
    "def predict_distance(batch):\n",
    "    def compute_distance(row):\n",
    "        peaks = find_peaks(row)[0]\n",
    "        if len(peaks) < 2:\n",
    "            return 0\n",
    "        return abs(peaks[1] - peaks[0])\n",
    "                   \n",
    "    return np.vstack([compute_distance(batch[i,:]) for i in range(batch.shape[0])])\n",
    "    "
   ]
  },
  {
   "cell_type": "markdown",
   "id": "exterior-machine",
   "metadata": {},
   "source": [
    "Now we evaluate our base model"
   ]
  },
  {
   "cell_type": "code",
   "execution_count": 138,
   "id": "protecting-emperor",
   "metadata": {},
   "outputs": [],
   "source": [
    "np.random.seed(2128506)\n",
    "data_generator = get_signal_generator(500, 1000, 0.7, 0.1, 0.03, 0.01)\n",
    "batch_x, batch_y = next(data_generator)"
   ]
  },
  {
   "cell_type": "code",
   "execution_count": 139,
   "id": "imperial-fifty",
   "metadata": {},
   "outputs": [
    {
     "name": "stdout",
     "output_type": "stream",
     "text": [
      "Baseline performance:  0.9999812121197582\n"
     ]
    }
   ],
   "source": [
    "predictions = predict_distance(batch_x)\n",
    "print('Baseline performance: ', r2_score(batch_y, predictions))"
   ]
  },
  {
   "cell_type": "markdown",
   "id": "rolled-qatar",
   "metadata": {},
   "source": [
    "## Fitting a deep learning model"
   ]
  },
  {
   "cell_type": "code",
   "execution_count": 140,
   "id": "appointed-place",
   "metadata": {},
   "outputs": [],
   "source": [
    "from tensorflow.keras.layers import Conv1D, Dense, Input\n",
    "from tensorflow.keras import Sequential"
   ]
  },
  {
   "cell_type": "code",
   "execution_count": 141,
   "id": "future-phrase",
   "metadata": {},
   "outputs": [],
   "source": [
    "model = Sequential([\n",
    "    Dense(100,input_shape=(1000,), activation='relu'),\n",
    "    Dense(1)\n",
    "])"
   ]
  },
  {
   "cell_type": "code",
   "execution_count": 149,
   "id": "collected-disclosure",
   "metadata": {},
   "outputs": [],
   "source": [
    "model.compile(optimizer='sgd', loss='mse')"
   ]
  },
  {
   "cell_type": "code",
   "execution_count": 150,
   "id": "median-arthur",
   "metadata": {},
   "outputs": [
    {
     "name": "stdout",
     "output_type": "stream",
     "text": [
      "Epoch 1/50\n",
      "100/100 [==============================] - 46s 455ms/step - loss: 4656988.5000\n",
      "Epoch 2/50\n",
      "100/100 [==============================] - 47s 473ms/step - loss: 13425.7549\n",
      "Epoch 3/50\n",
      "100/100 [==============================] - 48s 479ms/step - loss: 7920.5815\n",
      "Epoch 4/50\n",
      "100/100 [==============================] - 47s 472ms/step - loss: 7722.8882\n",
      "Epoch 5/50\n",
      "100/100 [==============================] - 48s 480ms/step - loss: 7771.6514\n",
      "Epoch 6/50\n",
      "100/100 [==============================] - 48s 479ms/step - loss: 7815.7598\n",
      "Epoch 7/50\n",
      "100/100 [==============================] - 46s 464ms/step - loss: 7789.9072\n",
      "Epoch 8/50\n",
      "100/100 [==============================] - 47s 467ms/step - loss: 7783.6143\n",
      "Epoch 9/50\n",
      "100/100 [==============================] - 47s 467ms/step - loss: 7733.8374\n",
      "Epoch 10/50\n",
      "100/100 [==============================] - 14s 136ms/step - loss: 7820.0225\n",
      "Epoch 11/50\n",
      "100/100 [==============================] - 18s 177ms/step - loss: 7830.9746\n",
      "Epoch 12/50\n",
      "100/100 [==============================] - 18s 183ms/step - loss: 7737.9751\n",
      "Epoch 13/50\n",
      "100/100 [==============================] - 18s 180ms/step - loss: 7891.2754\n",
      "Epoch 14/50\n",
      "100/100 [==============================] - 17s 175ms/step - loss: 7815.4272\n",
      "Epoch 15/50\n",
      "100/100 [==============================] - 17s 173ms/step - loss: 7832.7339\n",
      "Epoch 16/50\n",
      "100/100 [==============================] - 17s 170ms/step - loss: 7748.7061\n",
      "Epoch 17/50\n",
      "100/100 [==============================] - 17s 172ms/step - loss: 7718.0391\n",
      "Epoch 18/50\n",
      "100/100 [==============================] - 17s 173ms/step - loss: 7817.4067\n",
      "Epoch 19/50\n",
      "100/100 [==============================] - 17s 172ms/step - loss: 7771.4521\n",
      "Epoch 20/50\n",
      "100/100 [==============================] - 17s 171ms/step - loss: 7844.7188\n",
      "Epoch 21/50\n",
      "100/100 [==============================] - 17s 169ms/step - loss: 7784.9111\n",
      "Epoch 22/50\n",
      "100/100 [==============================] - 19s 186ms/step - loss: 7754.4575\n",
      "Epoch 23/50\n",
      "100/100 [==============================] - 21s 205ms/step - loss: 7690.5786\n",
      "Epoch 24/50\n",
      "100/100 [==============================] - 17s 171ms/step - loss: 7816.8945\n",
      "Epoch 25/50\n",
      "100/100 [==============================] - 17s 167ms/step - loss: 7790.3413\n",
      "Epoch 26/50\n",
      "100/100 [==============================] - 17s 168ms/step - loss: 7837.0034\n",
      "Epoch 27/50\n",
      "100/100 [==============================] - 16s 165ms/step - loss: 7803.2314\n",
      "Epoch 28/50\n",
      "100/100 [==============================] - 16s 165ms/step - loss: 7739.6450\n",
      "Epoch 29/50\n",
      "100/100 [==============================] - 16s 164ms/step - loss: 7813.5474\n",
      "Epoch 30/50\n",
      "100/100 [==============================] - 16s 164ms/step - loss: 7747.6006\n",
      "Epoch 31/50\n",
      "100/100 [==============================] - 16s 164ms/step - loss: 7776.4482\n",
      "Epoch 32/50\n",
      "100/100 [==============================] - 16s 164ms/step - loss: 7815.2876\n",
      "Epoch 33/50\n",
      "100/100 [==============================] - 16s 163ms/step - loss: 7800.7954\n",
      "Epoch 34/50\n",
      "100/100 [==============================] - 21s 213ms/step - loss: 7787.0156\n",
      "Epoch 35/50\n",
      "100/100 [==============================] - 20s 197ms/step - loss: 7828.0786\n",
      "Epoch 36/50\n",
      "100/100 [==============================] - 20s 202ms/step - loss: 7786.7520\n",
      "Epoch 37/50\n",
      "100/100 [==============================] - 19s 190ms/step - loss: 7765.4609\n",
      "Epoch 38/50\n",
      "100/100 [==============================] - 19s 193ms/step - loss: 7810.3564\n",
      "Epoch 39/50\n",
      "100/100 [==============================] - 19s 189ms/step - loss: 7747.1411\n",
      "Epoch 40/50\n",
      "100/100 [==============================] - 19s 187ms/step - loss: 7754.9829\n",
      "Epoch 41/50\n",
      "100/100 [==============================] - 19s 188ms/step - loss: 7882.5396s - loss: 7882.53\n",
      "Epoch 42/50\n",
      "100/100 [==============================] - 19s 191ms/step - loss: 7832.8232\n",
      "Epoch 43/50\n",
      "100/100 [==============================] - 20s 198ms/step - loss: 7759.4897\n",
      "Epoch 44/50\n",
      "100/100 [==============================] - 20s 199ms/step - loss: 7804.2271\n",
      "Epoch 45/50\n",
      "100/100 [==============================] - 20s 197ms/step - loss: 7845.8955\n",
      "Epoch 46/50\n",
      "100/100 [==============================] - 19s 192ms/step - loss: 7813.3901s - l\n",
      "Epoch 47/50\n",
      "100/100 [==============================] - 19s 192ms/step - loss: 7784.5830\n",
      "Epoch 48/50\n",
      "100/100 [==============================] - 19s 190ms/step - loss: 7772.1543\n",
      "Epoch 49/50\n",
      "100/100 [==============================] - 19s 192ms/step - loss: 7887.8105\n",
      "Epoch 50/50\n",
      "100/100 [==============================] - 19s 192ms/step - loss: 7777.7666\n"
     ]
    },
    {
     "data": {
      "text/plain": [
       "<tensorflow.python.keras.callbacks.History at 0x13a95570850>"
      ]
     },
     "execution_count": 150,
     "metadata": {},
     "output_type": "execute_result"
    }
   ],
   "source": [
    "np.random.seed(2128506)\n",
    "data_generator = get_signal_generator(500, 1000, 0.7, 0.1, 0.03, 0.01)\n",
    "model.fit(data_generator, epochs=50, steps_per_epoch=100)"
   ]
  },
  {
   "cell_type": "code",
   "execution_count": 151,
   "id": "tamil-moses",
   "metadata": {},
   "outputs": [
    {
     "name": "stdout",
     "output_type": "stream",
     "text": [
      "R^2 score:  -0.00011996042538386931\n"
     ]
    }
   ],
   "source": [
    "batch_x, batch_y = next(data_generator)\n",
    "predictions = model.predict(batch_x)\n",
    "print('R^2 score: ', r2_score(batch_y, predictions))"
   ]
  },
  {
   "cell_type": "code",
   "execution_count": null,
   "id": "chubby-sharing",
   "metadata": {},
   "outputs": [],
   "source": []
  }
 ],
 "metadata": {
  "kernelspec": {
   "display_name": "Python 3",
   "language": "python",
   "name": "python3"
  },
  "language_info": {
   "codemirror_mode": {
    "name": "ipython",
    "version": 3
   },
   "file_extension": ".py",
   "mimetype": "text/x-python",
   "name": "python",
   "nbconvert_exporter": "python",
   "pygments_lexer": "ipython3",
   "version": "3.8.5"
  }
 },
 "nbformat": 4,
 "nbformat_minor": 5
}
